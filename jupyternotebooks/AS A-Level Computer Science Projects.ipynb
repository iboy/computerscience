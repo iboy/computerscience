{
 "cells": [
  {
   "cell_type": "markdown",
   "metadata": {},
   "source": [
    "# AS / A Level OCR Computer Science"
   ]
  },
  {
   "cell_type": "markdown",
   "metadata": {
    "heading_collapsed": true
   },
   "source": [
    "## Introduction - Mini programming projects"
   ]
  },
  {
   "cell_type": "markdown",
   "metadata": {
    "hidden": true
   },
   "source": [
    "We aim to : \n",
    "1. Use the OCR criteria project to design, analyse and develop simple projects;\n",
    "2. Identify mini-projects to help develop our programming techniques;\n",
    "3. Develop our skills at computational thinking: decomposition and abstraction;\n",
    "4. To develop real-world programming problem solving: how do we find the parts of a problem to work on first?\n",
    "5. Develop effective ways of working and research to solve our self-defined programming problems.\n",
    "6. Identify ways in which we can find complexity in a project idea, following OCR\n",
    "\n",
    "We spent some time identifying short projects to develop our skills. This notebook summarises our steps and demonstrates the worked example of the **Bingo** project. I try to expose how I think about solving a programming problem and what drives my explorations and research. I feel I am always learning and have built up a collection of research techniques to aid my own learning."
   ]
  },
  {
   "cell_type": "markdown",
   "metadata": {
    "heading_collapsed": true
   },
   "source": [
    "## OCR programming projects"
   ]
  },
  {
   "cell_type": "markdown",
   "metadata": {
    "hidden": true
   },
   "source": [
    "Use the following headings and prompt questions to structure your thinking. Remember our discussion of what problems are *computable* or *solvable by computational methods* (See PG Online OCR AS and A Leveltextbook: page 277). \n",
    "Note that these are just the first few statements, there are more points on *development* and *evaluation*.\n",
    "\n",
    "**Extract OCR A Level Computer Science Specification, pg.13-14**\n",
    "\n",
    "**3.1 Analysis of the problem (10 marks)**\n",
    "\n",
    "| <p align=\"center\" valign=\"top\">Stages</p> | <p align=\"center\">Prompts</p>   |\n",
    "|:--|:--------:|\n",
    "| <p align=\"left\">3.1.1 Problem identification. </p>            | <p align=\"left\">  (a) Describe and justify the features that make the problem solvable by computational methods. <br>(b) Explain why the problem is amenable to a computational approach.</p>     |\n",
    "| <p align=\"left\">3.1.2 Stakeholders.</p>                     | <p align=\"left\">  (a) Identify and describe those who will have an interest in the solution explaining how the solution is appropriate to their needs (this may be named individuals, groups or persona that describes the target end user).</p> |\n",
    "| <p align=\"left\">3.1.3 Research the problem.</p>| <p align=\"left\">(a) Research the problem and solutions to similar problems to identify and justify suitable approaches to a solution.<br>(b) Describe the essential features of a computational solution explaining these choices.<br>(c) Explain the limitations of the proposed solution.</p>|\n",
    "| <p align=\"left\">3.1.4 Specify the proposed solution.</p>|  <p align=\"left\">(a) Specify and justify the solution requirements including hardware and software configuration (if appropriate).<br>(b) Identify and justify measurable success criteria for the proposed solution.</p>|\n"
   ]
  },
  {
   "cell_type": "markdown",
   "metadata": {
    "hidden": true
   },
   "source": [
    "**3.2 Design of the solution (15 marks)**\n",
    "\n",
    "| <p align=\"center\" valign=\"top\">Stages</p> | <p align=\"center\">Prompts</p>   |\n",
    "|:--|:--------:|\n",
    "| <p align=\"left\">3.2.1 Decompose the problem</p>|  <p align=\"left\">(a) Break down the problem into smaller parts suitable for computational solutions justifying any decisions made.</p>|\n",
    "| <p align=\"left\">3.2.2 Describe the solution.    </p>|  <p align=\"left\">(a) Explain and justify the structure of the solution. <br>(b) Describe the parts of the solution using algorithms justifying how these algorithms form a complete solution to the problem.<br>(c) Describe usability features to be included in the solution.<br>(d) Identify key variables / data structures / classes justifying choices and any necessary validation.</p>|\n",
    "| <p align=\"left\">3.2.3 Describe the approach to testing. | <p align=\"left\">(a) Identify the test data to be used during the iterative development and post development phases and justify the choice of this test data.</p>|"
   ]
  },
  {
   "cell_type": "markdown",
   "metadata": {
    "hidden": true
   },
   "source": [
    "**3.3 Developing the solution (25 marks)**\n",
    "\n",
    "| <p align=\"center\" valign=\"top\">Stages</p> | <p align=\"center\">Prompts</p>   |\n",
    "|:--|:--------:|\n",
    "| <p align=\"left\">3.3.1 Iterative development process</p>|  <p align=\"left\">(a) Provide annotated evidence of each stage of the iterative development process justifying any decision made.<br>(b) Provide annotated evidence of prototype solutions justifying any decision made.</p>|"
   ]
  },
  {
   "cell_type": "markdown",
   "metadata": {
    "heading_collapsed": true
   },
   "source": [
    "## The iterative development cycle"
   ]
  },
  {
   "cell_type": "markdown",
   "metadata": {
    "hidden": true
   },
   "source": [
    "You'll learn more about agile project management later. For our mini-projects we want to do fast, iterative (cyclical) development. We need to quickly **specify** our project, **identify** clear sub-tasks that involve a concept we wish (or need) to know about, then **research** and **develop** minimal working examples. In the mini-projects we aim for a *proof of concept*. The idea is to collect a set of short, but complete programs that we can collect, use as reference and, hopefully, assemble with little change into bigger more complex project."
   ]
  },
  {
   "cell_type": "markdown",
   "metadata": {
    "hidden": true
   },
   "source": [
    "![OCR_A-Level_CS_Project_iterative_development_process.png](OCR_A-Level_CS_Project_iterative_development_process.png)"
   ]
  },
  {
   "cell_type": "markdown",
   "metadata": {
    "heading_collapsed": true
   },
   "source": [
    "## Set up a decent development environment"
   ]
  },
  {
   "cell_type": "markdown",
   "metadata": {
    "hidden": true
   },
   "source": [
    "In the school computer lab, you need to install the latest Python [https://www.python.org/downloads/](https://www.python.org/downloads/) and install Portable VSCode [https://sourceforge.net/projects/vscode-portable/](https://sourceforge.net/projects/vscode-portable/). Josh has an excellent workflow to ensure he has a *sane* development environment whereever he goes. He carries it around on a USB.\n",
    "\n",
    "Do this and you can install third party modules using <code>pip</code>."
   ]
  },
  {
   "cell_type": "markdown",
   "metadata": {},
   "source": [
    "## Bingo!"
   ]
  },
  {
   "cell_type": "markdown",
   "metadata": {},
   "source": [
    "Tami, Stephanie and Adedolapo all suggested **Bingo** as a python project, so I thought I'd help and have a go at identifying some of the problems, identifying the python programming techniques we could explore and writing some code. It is not a complete solution - instead I address sub-problems that could be part of a bigger solution. Without getting too detailed, I try and outline my thinking processes and research. I also aim to explore some techniques that may help find *complexity* in the project: e.g. UI, data persistence (databases)."
   ]
  },
  {
   "cell_type": "markdown",
   "metadata": {},
   "source": [
    "### Research the rules of bingo"
   ]
  },
  {
   "cell_type": "markdown",
   "metadata": {},
   "source": [
    "**Web search:** I quickly identified UK and US bingo game rules and found some interesting details about the construction of the bingo cards.  \n",
    "\n",
    "UK bingo cards have 9 columns x 3 rows. There are 90 balls, selected at random by a caller with a mechanical machine or a random number generator. There are variations, but a player wins when a line is matched or the whole card is matched. Game variations include matching four corners. On the bingo card, each column is populated by random numbers between 1 and 90, placed in a specific order in each column (numeric value asc.) Column 1 contains numbers 1-10, column 2 11-20, column three 21-30... and so on. Each row contains 4 blank squares. I didn't realise there was such a rule-set and thought it would be fun to try to code a card generator that obeyed the official UK Bingo rules.\n",
    "\n",
    "![OCR_A-Level_bingo_card.png](OCR_A-Level_bingo_card.png)\n",
    "\n",
    "There are many other variations of how bingo is played electronically: against a computer, against others (networked), generate materials and play offline (print out cards), and then many variations as to how the game mechanics work.\n",
    "\n",
    "I found another article ([https://www.stat.berkeley.edu/~aldous/157/Old_Projects/chon.pdf](https://www.stat.berkeley.edu/~aldous/157/Old_Projects/chon.pdf)) interested in how the random distribution of numbers works (statistically) and the problem of defining cards that limit the number of winners in a game. I was surprised at the probability theory  used to analyse the problem. For now, as I did not need to limit the number of cash prizes (and the game isn't public), I would ignore the business/ecomonics aspect of creating bingo cards. If I was coding an online casino, I would care about this.\n",
    "\n",
    "Just a quick survey made me think about the following: \n",
    "\n",
    "1. It is common to play multiple cards at once.\n",
    "2. Online bingo systems often have real time chat facilities.\n",
    "3. How do I handle random lists of numbers in Python?\n",
    "4. How do I display tabulated content (like bingo cards in Python)\n",
    "5. How do I store generated cards, in a database, for example?\n",
    "6. How do I retrieve cards stored in a database?\n",
    "7. How can I handle user interaction and events in Python and can I make an app with a GUI?\n",
    "8. What is a suitable *game mechanic* for bingo (written in Python)?\n",
    "\n",
    "Some small practical questions, and some bigger design questions.\n",
    "\n",
    "Without much thought I jumped into coding and practically researching Questions 3, 4 first, then 5, 6, then mayber 7.\n",
    "\n",
    "Remember I am trying to test and extend my programming skills so these seem like a good place to start."
   ]
  },
  {
   "cell_type": "markdown",
   "metadata": {},
   "source": [
    "### Select a problem"
   ]
  },
  {
   "cell_type": "markdown",
   "metadata": {},
   "source": [
    "I've chosen:\n",
    "\n",
    "* How do I handle random lists of numbers in Python?\n",
    "* How do I display tabulated content (like bingo cards) in Python?\n",
    "* How do I store generated cards, in a database for example?\n",
    "\n",
    "Python can be extended using *modules*. You may have seen:\n",
    "\n",
    "<code>import random</code>\n",
    "\n",
    "In a console python program, the print command doesn't print tables nicely. \n",
    "\n",
    "I had heard of the modules <kbd>random</kbd>, <kbd>pprint</kbd> and <kbd>prettytables</kbd>. I know about <code>lists</code>. So I broke my problems down (decomposed them) into smaller bits to help me refine my google searches. "
   ]
  },
  {
   "cell_type": "markdown",
   "metadata": {},
   "source": [
    "### Where to begin researching"
   ]
  },
  {
   "cell_type": "markdown",
   "metadata": {},
   "source": [
    "* The [Python manual](https://docs.python.org/3/);\n",
    "* [Stackoverflow](https://stackoverflow.com);\n",
    "* the git or home pages of third party modules (e.g. for prettytable see [https://code.google.com/archive/p/prettytable/wikis/Tutorial.wiki](https://code.google.com/archive/p/prettytable/wikis/Tutorial.wiki) and [https://pypi.org/project/PrettyTable/](https://pypi.org/project/PrettyTable/) offer documentation and code examples. \n",
    "\n",
    "Get used to reading documentation and examples, extracting the bits you might need and try to build small working programs that solve one problem.\n",
    "\n",
    "You can get documentation direct from any decent code editor."
   ]
  },
  {
   "cell_type": "markdown",
   "metadata": {},
   "source": [
    "### Set up Python"
   ]
  },
  {
   "cell_type": "markdown",
   "metadata": {
    "slideshow": {
     "slide_type": "slide"
    }
   },
   "source": [
    "**Requirements:** I'm using the latest Python. And I can install modules (python extensions) using:\n",
    "\n",
    "<code>pip install &lt;module name&gt;</code>"
   ]
  },
  {
   "cell_type": "markdown",
   "metadata": {
    "slideshow": {
     "slide_type": "slide"
    }
   },
   "source": [
    "Install PrettyTable by running the following at your command line / shell / powershell:\n",
    "\n",
    "<code>pip install PrettyTable</code>"
   ]
  },
  {
   "cell_type": "markdown",
   "metadata": {},
   "source": [
    "If that doesn't work you may need to check your installation of python (!)."
   ]
  },
  {
   "cell_type": "markdown",
   "metadata": {
    "heading_collapsed": true
   },
   "source": [
    "### Create your own development environment"
   ]
  },
  {
   "cell_type": "markdown",
   "metadata": {
    "hidden": true
   },
   "source": [
    "The school python installation is limited. You cannot install python modules or extend python using <code>pip install</code>.\n",
    "\n",
    "So: install your own: \n",
    "\n",
    "1. Download and install the latest python: [https://www.python.org/downloads/](https://www.python.org/downloads/)\n",
    "2. Download and install a good code editor (VS Code Portable): [https://sourceforge.net/projects/vscode-portable/](https://sourceforge.net/projects/vscode-portable/)\n",
    "3. Configure (Josh can explain).\n",
    "\n",
    "Then you are in control your coding environment on the school computers.\n",
    "\n",
    "Josh carries his own *sane* development environment around with him on a USB.\n",
    "There are other ways to use a *portable python* and extend your environment. \n",
    "\n",
    "1. Use websites like [https://repl.it](https://repl.it) or [https://www.pythonanywhere.com](https://www.pythonanywhere.com), \n",
    "2. Use Docker containers [https://kitematic.com](https://kitematic.com) - advanced;\n",
    "3. Carry a [Raspberry Pi](https://www.raspberrypi.org/documentation/usage/python/README.md) with you."
   ]
  },
  {
   "cell_type": "markdown",
   "metadata": {},
   "source": [
    "### Code - Pretty Table Random Bingo Card Test (with comments)"
   ]
  },
  {
   "cell_type": "markdown",
   "metadata": {},
   "source": [
    "The comments in the code below account my thought processes"
   ]
  },
  {
   "cell_type": "code",
   "execution_count": 5,
   "metadata": {},
   "outputs": [
    {
     "name": "stdout",
     "output_type": "stream",
     "text": [
      "Bingo Card\n",
      "+----+----+----+----+----+----+----+----+----+\n",
      "| 2  | 3  | 4  | 5  | 6  | 7  | 8  | 9  | 10 |\n",
      "+----+----+----+----+----+----+----+----+----+\n",
      "| 12 | 13 | 14 | 15 | 16 | 17 | 18 | 19 | 20 |\n",
      "+----+----+----+----+----+----+----+----+----+\n",
      "| 21 | 22 | 23 | 24 | 25 | 26 | 27 | 28 | 29 |\n",
      "+----+----+----+----+----+----+----+----+----+\n"
     ]
    }
   ],
   "source": [
    "from prettytable import PrettyTable\n",
    "from prettytable import ALL as ALL # This was a nightmare to get working. I read the docs and looked for sample code. I tried about 10 attempts.\n",
    "import random\n",
    "bingoCard = PrettyTable(header = False, hrules=ALL) # hrules: I really wanted to get lines between the rows! Took me ages.\n",
    "bingoCard.field_names = ['Col1', 'Col2', 'Col3','Col4','Col5', 'Col6', 'Col7','Col8','Col9'] # set up headings to define the number of rows\n",
    "\n",
    "balls=[] # create an empty list\n",
    "\n",
    "# I never remember how range works. Look it up. I think I'm getting numbers 1 - 90 with no 0.\n",
    "# I thought of manually creating a list of numbers 1-90 first. Then I thought of a for-loop appending numbers\n",
    "# to an array/list. But python can do so much for you.\n",
    "\n",
    "balls = list(range(1,91)) # 90 balls in bingo - no zero ball\n",
    "\n",
    "#some debug statements checking my list values, checking and demoing how random shuffle works. \n",
    "#I would remove these.\n",
    "#uncomment to see them working.\n",
    "#print(len(balls))\n",
    "#print(balls[89]) # =90\n",
    "#print(balls[0]) # =1\n",
    "#print(balls[90]) # = index out of range error\n",
    "#random.shuffle(balls) # run this every time you wish to shuffle the array. \n",
    "\n",
    "# I think I want to store the cards, before a reshuffle. Note check how to do this\n",
    "\n",
    "#print(balls[50])\n",
    "#random.shuffle(balls) # uncomment to test that shuffle really does mix things up.\n",
    "#print(balls[50])\n",
    "\n",
    "# After a shuffle, I decided to use the first 27 items from the list. They should be random.\n",
    "# I prepare them in rows for prettytable\n",
    "# I adapted this sequence from the pretty table documentation. When you have a prettytable object, you can :\n",
    "#      * sort rows\n",
    "#      * add data in columns, not only rows (like here)\n",
    "#      * read and print a table from a database (e.g. sqlite)\n",
    "#      * change the formatting of the output table\n",
    "#      * print the table to HTML (this will be useful I feel)\n",
    "\n",
    "# There may be a better way to do this with for-loops. Do it the long way (if it works). Optimise later.\n",
    "row1 = [balls[1], balls[2],  balls[3],  balls[4],  balls[5],  balls[6],  balls[7],  balls[8],  balls[9]]\n",
    "row2 = [balls[11],balls[12], balls[13], balls[14], balls[15], balls[16], balls[17], balls[18], balls[19]]\n",
    "row3 = [balls[20],balls[21], balls[22], balls[23], balls[24], balls[25], balls[26], balls[27],  balls[28]]\n",
    "\n",
    "\n",
    "bingoCard.add_row(row1)\n",
    "bingoCard.add_row(row2)\n",
    "bingoCard.add_row(row3)\n",
    "\n",
    "print(\"Bingo Card\")\n",
    "print (bingoCard)\n",
    "# Yay!"
   ]
  },
  {
   "cell_type": "markdown",
   "metadata": {
    "heading_collapsed": true,
    "variables": {
     "balls[1]": "2"
    }
   },
   "source": [
    "### Research - \n",
    "\n",
    "row3 balls 1 = {{balls[1]}}\n",
    "\n",
    "\n",
    "b = Latex (r'$b = \\frac{\\epsilon}{2}$)\n",
    "\n",
    "<cite data-cite=\"22129/QV4YTELQ\"></cite>"
   ]
  },
  {
   "cell_type": "markdown",
   "metadata": {},
   "source": [
    "## Resources"
   ]
  },
  {
   "cell_type": "markdown",
   "metadata": {},
   "source": [
    "OCR A Level Computer Science Specification [http://www.ocr.org.uk/Images/170844-specification-accredited-a-level-gce-computer-science-h446.pdf](http://www.ocr.org.uk/Images/170844-specification-accredited-a-level-gce-computer-science-h446.pdf) See pages: 13-14\n",
    "\n",
    "OCR A Level Computer Science Project Complexity Guide [http://www.ocr.org.uk/Images/253701-project-complexity-guide.pdf](http://www.ocr.org.uk/Images/253701-project-complexity-guide.pdf)\n",
    "\n",
    "OCR A Level Computer Science Project Teacher Guide [http://www.ocr.org.uk/Images/324587-component-03-programming-project-teacher-guide.ppt](http://www.ocr.org.uk/Images/324587-component-03-programming-project-teacher-guide.ppt)\n",
    "\n",
    "Carroll, John and David Morris. 2017. *[Agile Project Management in easy steps]\n",
    "\n",
    "(http://ineasysteps.com/products-page/all_books/agile-project-management-easy-steps-2nd-edition/)*. Lymington Spa, Easy Steps.\n",
    "\n",
    "\n",
    "<div class=\"cite2c-biblio\"></div>"
   ]
  }
 ],
 "metadata": {
  "cite2c": {
   "citations": {
    "22129/QV4YTELQ": {
     "URL": "http://python.microbit.org/v/1",
     "accessed": {
      "day": 10,
      "month": 5,
      "year": 2018
     },
     "id": "22129/QV4YTELQ",
     "title": "Micro:bit - Python editor v1",
     "type": "webpage"
    }
   }
  },
  "kernelspec": {
   "display_name": "Python 3",
   "language": "python",
   "name": "python3"
  },
  "language_info": {
   "codemirror_mode": {
    "name": "ipython",
    "version": 3
   },
   "file_extension": ".py",
   "mimetype": "text/x-python",
   "name": "python",
   "nbconvert_exporter": "python",
   "pygments_lexer": "ipython3",
   "version": "3.6.4"
  },
  "toc": {
   "nav_menu": {},
   "number_sections": false,
   "sideBar": true,
   "skip_h1_title": true,
   "toc_cell": false,
   "toc_position": {
    "height": "703px",
    "left": "0px",
    "right": "1309.5999755859375px",
    "top": "110px",
    "width": "212px"
   },
   "toc_section_display": "block",
   "toc_window_display": true
  }
 },
 "nbformat": 4,
 "nbformat_minor": 2
}
