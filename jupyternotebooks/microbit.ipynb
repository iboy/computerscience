{
 "cells": [
  {
   "cell_type": "markdown",
   "metadata": {
    "slideshow": {
     "slide_type": "slide"
    },
    "toc": true
   },
   "source": [
    "<h1>Table of Contents<span class=\"tocSkip\"></span></h1>\n",
    "<div class=\"toc\" style=\"margin-top: 1em;\"><ul class=\"toc-item\"><li><ul class=\"toc-item\"><li><span><a href=\"#Help-using-this-notebook\" data-toc-modified-id=\"Help-using-this-notebook-0.1\"><span class=\"toc-item-num\">0.1&nbsp;&nbsp;</span>Help using this notebook</a></span></li><li><span><a href=\"#Resources-and-Links\" data-toc-modified-id=\"Resources-and-Links-0.2\"><span class=\"toc-item-num\">0.2&nbsp;&nbsp;</span>Resources and Links</a></span></li></ul></li><li><span><a href=\"#Hello-World\" data-toc-modified-id=\"Hello-World-1\"><span class=\"toc-item-num\">1&nbsp;&nbsp;</span>Hello World</a></span></li><li><span><a href=\"#Displaying-Images\" data-toc-modified-id=\"Displaying-Images-2\"><span class=\"toc-item-num\">2&nbsp;&nbsp;</span>Displaying Images</a></span></li><li><span><a href=\"#Creating-Images\" data-toc-modified-id=\"Creating-Images-3\"><span class=\"toc-item-num\">3&nbsp;&nbsp;</span>Creating Images</a></span></li><li><span><a href=\"#Animation\" data-toc-modified-id=\"Animation-4\"><span class=\"toc-item-num\">4&nbsp;&nbsp;</span>Animation</a></span></li><li><span><a href=\"#Control\" data-toc-modified-id=\"Control-5\"><span class=\"toc-item-num\">5&nbsp;&nbsp;</span>Control</a></span></li><li><span><a href=\"#Basic-Input/Output\" data-toc-modified-id=\"Basic-Input/Output-6\"><span class=\"toc-item-num\">6&nbsp;&nbsp;</span>Basic Input/Output</a></span></li><li><span><a href=\"#Sensing-Movement-and-Gestures\" data-toc-modified-id=\"Sensing-Movement-and-Gestures-7\"><span class=\"toc-item-num\">7&nbsp;&nbsp;</span>Sensing Movement and Gestures</a></span></li><li><span><a href=\"#NeoPixels\" data-toc-modified-id=\"NeoPixels-8\"><span class=\"toc-item-num\">8&nbsp;&nbsp;</span>NeoPixels</a></span></li><li><span><a href=\"#Animation\" data-toc-modified-id=\"Animation-9\"><span class=\"toc-item-num\">9&nbsp;&nbsp;</span>Animation</a></span></li><li><span><a href=\"#Solutions\" data-toc-modified-id=\"Solutions-10\"><span class=\"toc-item-num\">10&nbsp;&nbsp;</span>Solutions</a></span><ul class=\"toc-item\"><li><span><a href=\"#Challenge-1---Scroll-a-message\" data-toc-modified-id=\"Challenge-1---Scroll-a-message-10.1\"><span class=\"toc-item-num\">10.1&nbsp;&nbsp;</span>Challenge 1 - Scroll a message</a></span></li><li><span><a href=\"#Challenge-2---Display-an-Image\" data-toc-modified-id=\"Challenge-2---Display-an-Image-10.2\"><span class=\"toc-item-num\">10.2&nbsp;&nbsp;</span>Challenge 2 - Display an Image</a></span></li><li><span><a href=\"#Challenge-3---Create-an-image\" data-toc-modified-id=\"Challenge-3---Create-an-image-10.3\"><span class=\"toc-item-num\">10.3&nbsp;&nbsp;</span>Challenge 3 - Create an image</a></span></li><li><span><a href=\"#Challenge-4---Animation\" data-toc-modified-id=\"Challenge-4---Animation-10.4\"><span class=\"toc-item-num\">10.4&nbsp;&nbsp;</span>Challenge 4 - Animation</a></span></li><li><span><a href=\"#Challenge-5---Control-with-Buttons\" data-toc-modified-id=\"Challenge-5---Control-with-Buttons-10.5\"><span class=\"toc-item-num\">10.5&nbsp;&nbsp;</span>Challenge 5 - Control with Buttons</a></span></li><li><span><a href=\"#Challenge-6---Basic-input-/-output-with-pins\" data-toc-modified-id=\"Challenge-6---Basic-input-/-output-with-pins-10.6\"><span class=\"toc-item-num\">10.6&nbsp;&nbsp;</span>Challenge 6 - Basic input / output with pins</a></span></li><li><span><a href=\"#Challenge-7---Sensing-Movement\" data-toc-modified-id=\"Challenge-7---Sensing-Movement-10.7\"><span class=\"toc-item-num\">10.7&nbsp;&nbsp;</span>Challenge 7 - Sensing Movement</a></span></li></ul></li></ul></div>"
   ]
  },
  {
   "cell_type": "markdown",
   "metadata": {
    "slideshow": {
     "slide_type": "slide"
    }
   },
   "source": [
    "![microbit_header_003.png](images/microbit_header_003.png)"
   ]
  },
  {
   "cell_type": "markdown",
   "metadata": {
    "slideshow": {
     "slide_type": "slide"
    }
   },
   "source": [
    "# Micro:Bit Python **Challenge Booklet 1**"
   ]
  },
  {
   "cell_type": "markdown",
   "metadata": {
    "slideshow": {
     "slide_type": "slide"
    }
   },
   "source": [
    "### Help using this notebook"
   ]
  },
  {
   "cell_type": "markdown",
   "metadata": {
    "slideshow": {
     "slide_type": "subslide"
    }
   },
   "source": [
    "There are many ways to program the BBC Micro:bit. Here we are use a fabulous technology called **Jupyter Notebooks**. \n",
    "\n",
    "**Jupyter Notebooks** let you code live in a web browser and see the results very quickly on an attached Micro:Bit.\n",
    "\n",
    "Features: \n",
    "* Error messages get reported live in the notebook\n",
    "* You can write notes by double clicking and type typing, then press <kbd>ctrl</kbd>-<kbd>return</kbd>\n",
    "* Create live programs \n",
    "* Present your work.\n",
    "\n",
    "The blocks on the page are called 'cells'. You can run code in a cell by pressing <kbd>ctrl</kbd> + <kbd>return</kbd>."
   ]
  },
  {
   "cell_type": "markdown",
   "metadata": {},
   "source": [
    "### Resources and Links"
   ]
  },
  {
   "cell_type": "markdown",
   "metadata": {},
   "source": [
    "Micropython Documentation and extra material for these tutorials: https://microbit-micropython.readthedocs.io/en/latest/tutorials/introduction.html\n",
    "Micro:bit home: http://microbit.org/"
   ]
  },
  {
   "cell_type": "markdown",
   "metadata": {
    "slideshow": {
     "slide_type": "slide"
    }
   },
   "source": [
    "## Hello World"
   ]
  },
  {
   "cell_type": "markdown",
   "metadata": {},
   "source": [
    "Write and run a simple program to scroll “Hello World” on the display. \n",
    "\n",
    "**Hint:** You will need a while loop and a function called display.scroll()"
   ]
  },
  {
   "cell_type": "code",
   "execution_count": 2,
   "metadata": {
    "slideshow": {
     "slide_type": "subslide"
    }
   },
   "outputs": [],
   "source": [
    "# solution\n",
    "from microbit import *\n",
    "display.scroll(\"Hello from the microbit!\")"
   ]
  },
  {
   "cell_type": "markdown",
   "metadata": {
    "slideshow": {
     "slide_type": "subslide"
    }
   },
   "source": [
    "<img style=\"float: left; padding-right: 12px; padding-bottom: 8pt;\" src=\"images/do.png\" width=\"60px\"height=\"60px\" alt=\"Do this now\" align=\"middle\">\n",
    "<p align=\"middle\"><strong>Challenge 2: Change the scrolling message</strong></p>\n",
    "\n",
    "\n",
    "Using the code as a starting point above change the message that is displayed."
   ]
  },
  {
   "cell_type": "code",
   "execution_count": null,
   "metadata": {
    "slideshow": {
     "slide_type": "subslide"
    }
   },
   "outputs": [],
   "source": [
    "# insert your code here\n",
    "#\n",
    "#\n",
    "#"
   ]
  },
  {
   "cell_type": "markdown",
   "metadata": {},
   "source": [
    "<img style=\"float: left; padding-right: 12px; padding-bottom: 8pt;\" src=\"images/do.png\" width=\"60px\"height=\"60px\" alt=\"Do this now\" align=\"middle\">\n",
    "<p align=\"middle\"><strong>Activity: Questions and Reflections</strong></p>\n",
    "\n",
    "<br>\n",
    "What went well?\n",
    "\n",
    "Double click and type your answer over this text, then press <kbd>ctrl</kbd>-<kbd>return</kbd>\n",
    "\n",
    "\n",
    "What went wrong?\n",
    "\n",
    "\n",
    "\n",
    "How did I fix it?\n",
    "\n",
    "\n",
    "\n",
    "What is a microbit?\n",
    "\n",
    "\n",
    "What is a .hex file?\n",
    "\n",
    "\n",
    "\n",
    "What code includes all the functions in the microbit library?\n",
    "\n",
    "\n",
    "\n"
   ]
  },
  {
   "cell_type": "markdown",
   "metadata": {},
   "source": []
  },
  {
   "cell_type": "markdown",
   "metadata": {
    "slideshow": {
     "slide_type": "slide"
    }
   },
   "source": [
    "## Displaying Images"
   ]
  },
  {
   "cell_type": "markdown",
   "metadata": {
    "slideshow": {
     "slide_type": "slide"
    }
   },
   "source": [
    "## Creating Images"
   ]
  },
  {
   "cell_type": "markdown",
   "metadata": {
    "slideshow": {
     "slide_type": "subslide"
    }
   },
   "source": [
    "**Activity: Change the scrolling message** \n",
    "\n",
    "Using the code as a starting point above change the message that is displayed."
   ]
  },
  {
   "cell_type": "code",
   "execution_count": 1,
   "metadata": {
    "slideshow": {
     "slide_type": "subslide"
    }
   },
   "outputs": [],
   "source": [
    "# Press ctrl + enter to run this cell\n",
    "from microbit import *\n",
    "display.show(Image.PACMAN)"
   ]
  },
  {
   "cell_type": "code",
   "execution_count": null,
   "metadata": {
    "slideshow": {
     "slide_type": "subslide"
    }
   },
   "outputs": [],
   "source": []
  },
  {
   "cell_type": "markdown",
   "metadata": {
    "slideshow": {
     "slide_type": "slide"
    }
   },
   "source": [
    "## Animation"
   ]
  },
  {
   "cell_type": "markdown",
   "metadata": {
    "slideshow": {
     "slide_type": "slide"
    }
   },
   "source": [
    "## Control"
   ]
  },
  {
   "cell_type": "markdown",
   "metadata": {
    "slideshow": {
     "slide_type": "slide"
    }
   },
   "source": [
    "## Basic Input/Output"
   ]
  },
  {
   "cell_type": "markdown",
   "metadata": {},
   "source": [
    "## Sensing Movement and Gestures"
   ]
  },
  {
   "cell_type": "markdown",
   "metadata": {},
   "source": [
    "Objectives: \n",
    "\n",
    "1. Objective 1\n",
    "2. Objective 2\n",
    "3. Objective 3"
   ]
  },
  {
   "cell_type": "markdown",
   "metadata": {
    "slideshow": {
     "slide_type": "slide"
    }
   },
   "source": [
    "## NeoPixels"
   ]
  },
  {
   "cell_type": "markdown",
   "metadata": {
    "slideshow": {
     "slide_type": "subslide"
    }
   },
   "source": [
    "![NeoPixelsZiphalo.gif](images/NeoPixelsZiphalo.gif)"
   ]
  },
  {
   "cell_type": "markdown",
   "metadata": {
    "slideshow": {
     "slide_type": "subslide"
    }
   },
   "source": [
    "You will need a micro:bit with a neopixel or a zip halo attached.\n",
    "\n",
    "Run the code below. Select the cell and press: <kbd>ctrl</kbd> + <kbd>return</kbd>"
   ]
  },
  {
   "cell_type": "code",
   "execution_count": 4,
   "metadata": {
    "slideshow": {
     "slide_type": "subslide"
    }
   },
   "outputs": [],
   "source": [
    "from microbit import *\n",
    "import neopixel\n",
    "from random import randint\n",
    "\n",
    "def zipHaloReset():\n",
    "    np = neopixel.NeoPixel(pin0, 24)\n",
    "    for pixel_id in range(0, len(np)):\n",
    "        red = 0\n",
    "        green = 0\n",
    "        blue = 0\n",
    "        # Assign the current LED a random red, green and blue value between 0 and 60\n",
    "        np[pixel_id] = (red, green, blue)\n",
    "        # Display the current pixel data on the Neopixel strip\n",
    "        np.show()\n",
    "def zipHaloRed():\n",
    "    np = neopixel.NeoPixel(pin0, 24)\n",
    "    for pixel_id in range(0, len(np)):\n",
    "        red = 255\n",
    "        green = 0\n",
    "        blue = 0\n",
    "        # Assign the current LED a random red, green and blue value between 0 and 60\n",
    "        np[pixel_id] = (red, green, blue)\n",
    "        # Display the current pixel data on the Neopixel strip\n",
    "        np.show()\n",
    "def zipHaloBlue():\n",
    "    np = neopixel.NeoPixel(pin0, 24)\n",
    "    for pixel_id in range(0, len(np)):\n",
    "        red = 0\n",
    "        green = 0\n",
    "        blue = 255\n",
    "        # Assign the current LED a random red, green and blue value between 0 and 60\n",
    "        np[pixel_id] = (red, green, blue)\n",
    "        # Display the current pixel data on the Neopixel strip\n",
    "        np.show()\n",
    "def zipHaloRGBColor(r, g, b):\n",
    "    np = neopixel.NeoPixel(pin0, 24)\n",
    "    for pixel_id in range(0, len(np)):\n",
    "        red = r\n",
    "        green = g\n",
    "        blue = b\n",
    "        # Assign the current LED a random red, green and blue value between 0 and 60\n",
    "        np[pixel_id] = (red, green, blue)\n",
    "        # Display the current pixel data on the Neopixel strip\n",
    "        np.show()\n",
    "\n",
    "#zipHaloReset()\n",
    "zipHaloReset()\n",
    "zipHaloRed()\n",
    "sleep(1000)\n",
    "zipHaloBlue()\n",
    "sleep(1000)\n",
    "zipHaloRGBColor(255,255,255)\n",
    "sleep(1000)\n",
    "zipHaloReset()"
   ]
  },
  {
   "cell_type": "markdown",
   "metadata": {
    "heading_collapsed": true,
    "slideshow": {
     "slide_type": "slide"
    }
   },
   "source": [
    "## Animation"
   ]
  },
  {
   "cell_type": "markdown",
   "metadata": {
    "hidden": true,
    "slideshow": {
     "slide_type": "subslide"
    }
   },
   "source": [
    "Nothing to see here."
   ]
  },
  {
   "cell_type": "markdown",
   "metadata": {
    "slideshow": {
     "slide_type": "slide"
    }
   },
   "source": [
    "## Solutions"
   ]
  },
  {
   "cell_type": "markdown",
   "metadata": {
    "slideshow": {
     "slide_type": "subslide"
    }
   },
   "source": [
    "### Challenge 1 - Scroll a message"
   ]
  },
  {
   "cell_type": "code",
   "execution_count": null,
   "metadata": {
    "slideshow": {
     "slide_type": "-"
    }
   },
   "outputs": [],
   "source": [
    "from microbit import *\n",
    "while True: # this is a while loop\n",
    "    display.scroll('Hello, World!')"
   ]
  },
  {
   "cell_type": "markdown",
   "metadata": {
    "slideshow": {
     "slide_type": "slide"
    }
   },
   "source": [
    "### Challenge 2 - Display an Image"
   ]
  },
  {
   "cell_type": "code",
   "execution_count": null,
   "metadata": {
    "slideshow": {
     "slide_type": "-"
    }
   },
   "outputs": [],
   "source": [
    "from microbit import *\n",
    "display.show(Image.HAPPY)"
   ]
  },
  {
   "cell_type": "markdown",
   "metadata": {
    "heading_collapsed": true,
    "slideshow": {
     "slide_type": "slide"
    }
   },
   "source": [
    "### Challenge 3 - Create an image"
   ]
  },
  {
   "cell_type": "code",
   "execution_count": null,
   "metadata": {
    "hidden": true
   },
   "outputs": [],
   "source": [
    "from microbit import *\n",
    "# Note the syntax. 0-9 varies the intensity\n",
    "boat = Image(\"05050:\"\n",
    "             \"05050:\"\n",
    "             \"05050:\"\n",
    "             \"99999:\"\n",
    "             \"09990\")\n",
    "\n",
    "display.show(boat)"
   ]
  },
  {
   "cell_type": "markdown",
   "metadata": {
    "heading_collapsed": true,
    "slideshow": {
     "slide_type": "slide"
    }
   },
   "source": [
    "### Challenge 4 - Animation"
   ]
  },
  {
   "cell_type": "code",
   "execution_count": null,
   "metadata": {
    "hidden": true,
    "slideshow": {
     "slide_type": "-"
    }
   },
   "outputs": [],
   "source": [
    "from microbit import *\n",
    "\n",
    "boat1 = Image(\"05050:\"\n",
    "              \"05050:\"\n",
    "              \"05050:\"\n",
    "              \"99999:\"\n",
    "              \"09990\")\n",
    "\n",
    "boat2 = Image(\"00000:\"\n",
    "              \"05050:\"\n",
    "              \"05050:\"\n",
    "              \"05050:\"\n",
    "              \"99999\")\n",
    "\n",
    "boat3 = Image(\"00000:\"\n",
    "              \"00000:\"\n",
    "              \"05050:\"\n",
    "              \"05050:\"\n",
    "              \"05050\")\n",
    "\n",
    "boat4 = Image(\"00000:\"\n",
    "              \"00000:\"\n",
    "              \"00000:\"\n",
    "              \"05050:\"\n",
    "              \"05050\")\n",
    "\n",
    "boat5 = Image(\"00000:\"\n",
    "              \"00000:\"\n",
    "              \"00000:\"\n",
    "              \"00000:\"\n",
    "              \"05050\")\n",
    "\n",
    "boat6 = Image(\"00000:\"\n",
    "              \"00000:\"\n",
    "              \"00000:\"\n",
    "              \"00000:\"\n",
    "              \"00000\")\n",
    "\n",
    "all_boats = [boat1, boat2, boat3, boat4, boat5, boat6]\n",
    "display.show(all_boats, delay=200)"
   ]
  },
  {
   "cell_type": "markdown",
   "metadata": {
    "slideshow": {
     "slide_type": "slide"
    }
   },
   "source": [
    "### Challenge 5 - Control with Buttons"
   ]
  },
  {
   "cell_type": "code",
   "execution_count": null,
   "metadata": {
    "slideshow": {
     "slide_type": "-"
    }
   },
   "outputs": [],
   "source": [
    "from microbit import *\n",
    "\n",
    "while True: # try it without the while loop\n",
    "    if button_a.is_pressed():\n",
    "      display.show(\"A\")\n",
    "    elif button_b.is_pressed():\n",
    "      display.show(\"B\")\n",
    "    elif button_a.is_pressed() and button_b.is_pressed():\n",
    "      display.scroll(\"AB\")\n",
    "    else: \n",
    "      display.clear()"
   ]
  },
  {
   "cell_type": "code",
   "execution_count": null,
   "metadata": {},
   "outputs": [],
   "source": [
    "from microbit import *\n",
    "\n",
    "while True:\n",
    "    if button_a.is_pressed():\n",
    "      display.show(\"A\")\n",
    "    elif button_b.is_pressed():\n",
    "      display.show(\"B\")\n",
    "    else: \n",
    "      display.clear()\n",
    "    # Why do we need two if statements?\n",
    "    # Test it with an elif in the above block\n",
    "    # and see the difference\n",
    "    # Question: why do we think that is happening?\n",
    "    if button_a.is_pressed() and button_b.is_pressed():\n",
    "      display.scroll(\"AB\")\n",
    "    else: \n",
    "      display.clear()"
   ]
  },
  {
   "cell_type": "markdown",
   "metadata": {
    "heading_collapsed": true,
    "slideshow": {
     "slide_type": "slide"
    }
   },
   "source": [
    "### Challenge 6 - Basic input / output with pins "
   ]
  },
  {
   "cell_type": "code",
   "execution_count": null,
   "metadata": {
    "hidden": true,
    "slideshow": {
     "slide_type": "-"
    }
   },
   "outputs": [],
   "source": [
    "from microbit import *\n",
    "\n",
    "while True:\n",
    "    if pin0.is_touched():\n",
    "        display.show(Image.HAPPY)\n",
    "    else:\n",
    "        display.show(Image.SAD)\n",
    "\n",
    "'''\n",
    "# this is a snippet of psuedocode to help you understand how if statements help \n",
    "# select different paths for your program to follow\n",
    "if something is True:\n",
    "    # do one thing\n",
    "elif some other thing is True:\n",
    "    # do another thing\n",
    "else:\n",
    "    # do yet another thing.\n",
    "'''"
   ]
  },
  {
   "cell_type": "markdown",
   "metadata": {
    "heading_collapsed": true,
    "slideshow": {
     "slide_type": "slide"
    }
   },
   "source": [
    "### Challenge 7 - Sensing Movement"
   ]
  },
  {
   "cell_type": "code",
   "execution_count": null,
   "metadata": {
    "hidden": true,
    "slideshow": {
     "slide_type": "-"
    }
   },
   "outputs": [],
   "source": [
    "from microbit import *\n",
    "y = 2\n",
    "x = 2\n",
    "while True:\n",
    "    readingX = accelerometer.get_x()\n",
    "    readingY = accelerometer.get_y()\n",
    "    # First get the Y axis tilt and check and set the Y coordinate for the pixel\n",
    "    if readingY > 100:\n",
    "        if y == 4:\n",
    "            y = 0\n",
    "        else:\n",
    "            y = y + 1\n",
    "        #display.show(\"F\")\n",
    "    elif readingY < -100:\n",
    "        if y == 0:\n",
    "            y = 4\n",
    "        else: \n",
    "            y = y - 1\n",
    "        #display.show(\"B\")\n",
    "    else:\n",
    "        # This block means we haven't moved (much) on the Y axis\n",
    "        y = y\n",
    "    \n",
    "    # Next get the X axis tilt and check and set the X coordinate for the pixel\n",
    "    if readingX > 100:\n",
    "        #display.show(\"R\")\n",
    "        if x < 4:\n",
    "            x = x + 1\n",
    "        else: \n",
    "            x = 0\n",
    "    elif readingX < -100:\n",
    "        #display.show(\"B\")\n",
    "        if x == 0:\n",
    "            x = 4\n",
    "        else: \n",
    "            x = x - 1\n",
    "    else:\n",
    "        #display.show(\"-\")\n",
    "        # This block means we haven't moved on the X axis\n",
    "        x = x\n",
    "    \n",
    "    # this sets the pixel on the screen\n",
    "    display.set_pixel(x, y, 9)\n",
    "    sleep(400) # This adjusts the speed the pixel appears to move. Like a sensitivity setting\n",
    "    display.clear()\n",
    "    \n",
    "    # Extension: extend the program by creating a game\n",
    "    # with the aim to settle the pixel in the centre.\n",
    "\n",
    "        \n",
    "    "
   ]
  }
 ],
 "metadata": {
  "celltoolbar": "Slideshow",
  "kernelspec": {
   "display_name": "micro:bit",
   "language": "python",
   "name": "ubit"
  },
  "language_info": {
   "codemirror_mode": {
    "name": "python",
    "version": 3
   },
   "file_extension": ".py",
   "mimetype": "text/x-python",
   "name": "python",
   "pygments_lexer": "python3",
   "version": "3"
  },
  "toc": {
   "nav_menu": {},
   "number_sections": true,
   "sideBar": true,
   "skip_h1_title": true,
   "toc_cell": true,
   "toc_position": {},
   "toc_section_display": "block",
   "toc_window_display": false
  }
 },
 "nbformat": 4,
 "nbformat_minor": 2
}
