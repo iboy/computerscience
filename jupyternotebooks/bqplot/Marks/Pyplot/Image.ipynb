{
 "cells": [
  {
   "cell_type": "markdown",
   "metadata": {
    "deletable": true,
    "editable": true
   },
   "source": [
    "## The `Image` Mark\n",
    "\n",
    "`Image` is a `Mark` object, used to visualize images in standard format (png, jpg etc...), in a `bqplot` `Figure`"
   ]
  },
  {
   "cell_type": "markdown",
   "metadata": {
    "deletable": true,
    "editable": true
   },
   "source": [
    "It takes as input an [ipywidgets `Image` widget](https://github.com/jupyter-widgets/ipywidgets/blob/master/ipywidgets/widgets/widget_image.py)"
   ]
  },
  {
   "cell_type": "markdown",
   "metadata": {
    "deletable": true,
    "editable": true
   },
   "source": [
    "### The ipywidgets Image"
   ]
  },
  {
   "cell_type": "code",
   "execution_count": null,
   "metadata": {
    "collapsed": true
   },
   "outputs": [],
   "source": [
    "import os\n",
    "import ipywidgets as widgets\n",
    "\n",
    "import bqplot.pyplot as plt\n",
    "from bqplot import *"
   ]
  },
  {
   "cell_type": "code",
   "execution_count": null,
   "metadata": {
    "collapsed": false,
    "deletable": true,
    "editable": true
   },
   "outputs": [],
   "source": [
    "image_path = os.path.abspath('../data_files/trees.jpg')\n",
    "\n",
    "with open(image_path, 'rb') as f:\n",
    "    raw_image = f.read()\n",
    "ipyimage = widgets.Image(value=raw_image, format='jpg')\n",
    "ipyimage"
   ]
  },
  {
   "cell_type": "markdown",
   "metadata": {},
   "source": [
    "## Using pyplot's imshow to display the image"
   ]
  },
  {
   "cell_type": "code",
   "execution_count": null,
   "metadata": {
    "collapsed": false
   },
   "outputs": [],
   "source": [
    "plt.figure(padding_y=0)\n",
    "axes_options = {'x': {'visible': False}, 'y': {'visible': False}}\n",
    "plt.imshow(image_path, 'filename')\n",
    "plt.show()"
   ]
  },
  {
   "cell_type": "markdown",
   "metadata": {
    "deletable": true,
    "editable": true
   },
   "source": [
    "### Displaying the image inside a bqplot Figure"
   ]
  },
  {
   "cell_type": "code",
   "execution_count": null,
   "metadata": {
    "collapsed": false,
    "deletable": true,
    "editable": true
   },
   "outputs": [],
   "source": [
    "fig = plt.figure(title='Trees', padding_x=0, padding_y=0)\n",
    "image = plt.imshow(ipyimage, 'widget')\n",
    "fig"
   ]
  },
  {
   "cell_type": "markdown",
   "metadata": {
    "deletable": true,
    "editable": true
   },
   "source": [
    "### Mixing with other marks\n",
    "\n",
    "`Image` is a mark like any other, so they can be mixed and matched together."
   ]
  },
  {
   "cell_type": "code",
   "execution_count": null,
   "metadata": {
    "collapsed": false,
    "deletable": true,
    "editable": true
   },
   "outputs": [],
   "source": [
    "fig = plt.figure(padding_x=0, padding_y=0)\n",
    "plt.scales(scales={'x': LinearScale(min=-1, max=2), \n",
    "                   'y': LinearScale(min=-0.5, max=2)})\n",
    "image = plt.imshow(ipyimage, format='widget')\n",
    "plt.plot([0, 1, 1, 0, 0], [0, 0, 1, 1, 0], 'r')\n",
    "fig"
   ]
  },
  {
   "cell_type": "markdown",
   "metadata": {
    "deletable": true,
    "editable": true
   },
   "source": [
    "Its traits (attributes) will also respond dynamically to a change from the backend"
   ]
  },
  {
   "cell_type": "code",
   "execution_count": null,
   "metadata": {
    "collapsed": true,
    "deletable": true,
    "editable": true
   },
   "outputs": [],
   "source": [
    "# Full screen\n",
    "image.x = [-1, 2]\n",
    "image.y = [-.5, 2]"
   ]
  }
 ],
 "metadata": {
  "kernelspec": {
   "display_name": "Python 3",
   "language": "python",
   "name": "python3"
  },
  "language_info": {
   "codemirror_mode": {
    "name": "ipython",
    "version": 3
   },
   "file_extension": ".py",
   "mimetype": "text/x-python",
   "name": "python",
   "nbconvert_exporter": "python",
   "pygments_lexer": "ipython3",
   "version": "3.6.4"
  },
  "widgets": {
   "application/vnd.jupyter.widget-state+json": {
    "state": {
     "04d900c35c79407e8f9f57c71a3ad338": {
      "model_module": "bqplot",
      "model_module_version": "^0.3.0",
      "model_name": "AxisModel",
      "state": {
       "_model_module_version": "^0.3.0",
       "_view_module_version": "^0.3.0",
       "scale": "IPY_MODEL_80b4dfd4d32e46058d615a19c8ba4226",
       "side": "bottom",
       "tick_values": {
        "type": null,
        "values": null
       }
      }
     },
     "0622ba0d24e94ed4ba3aaab8df39c611": {
      "model_module": "@jupyter-widgets/base",
      "model_module_version": "1.0.0",
      "model_name": "LayoutModel",
      "state": {}
     },
     "0d3e5819043a4b378d3af13648d5b3b4": {
      "model_module": "@jupyter-widgets/base",
      "model_module_version": "1.0.0",
      "model_name": "LayoutModel",
      "state": {
       "min_width": "125px"
      }
     },
     "1ec882db9cb841fb87f907d09cad0480": {
      "model_module": "bqplot",
      "model_module_version": "^0.3.0",
      "model_name": "LinearScaleModel",
      "state": {
       "_model_module_version": "^0.3.0",
       "_view_module_version": "^0.3.0",
       "allow_padding": false,
       "max": 1,
       "min": 0,
       "stabilized": false
      }
     },
     "203eb5a03efa4105adfd9b853ac49b7b": {
      "model_module": "@jupyter-widgets/base",
      "model_module_version": "1.0.0",
      "model_name": "LayoutModel",
      "state": {}
     },
     "32d48656fa234d86a504e3c01daa2a5c": {
      "model_module": "@jupyter-widgets/controls",
      "model_module_version": "1.0.0",
      "model_name": "ImageModel",
      "state": {
       "layout": "IPY_MODEL_b72fbd0d6a36449e8691540541a6d00b",
       "value": {}
      }
     },
     "3375f88558044daba7af8850d3f7d76e": {
      "model_module": "@jupyter-widgets/base",
      "model_module_version": "1.0.0",
      "model_name": "LayoutModel",
      "state": {
       "min_width": "125px"
      }
     },
     "3dbaf85a158048bb8afab96efcd647dd": {
      "model_module": "bqplot",
      "model_module_version": "^0.3.0",
      "model_name": "ToolbarModel",
      "state": {
       "_model_module_version": "^0.3.0",
       "_view_module_version": "^0.3.0",
       "figure": "IPY_MODEL_4e6331271a734ad3831edadd5c59efad",
       "layout": "IPY_MODEL_203eb5a03efa4105adfd9b853ac49b7b"
      }
     },
     "456831a0b1e84a8a8165dba766473edf": {
      "model_module": "bqplot",
      "model_module_version": "^0.3.0",
      "model_name": "LinearScaleModel",
      "state": {
       "_model_module_version": "^0.3.0",
       "_view_module_version": "^0.3.0",
       "max": 2,
       "min": -1,
       "stabilized": false
      }
     },
     "4db5e4b8cb6445dbb21323e987bd724d": {
      "model_module": "bqplot",
      "model_module_version": "^0.3.0",
      "model_name": "LinearScaleModel",
      "state": {
       "_model_module_version": "^0.3.0",
       "_view_module_version": "^0.3.0",
       "stabilized": false
      }
     },
     "4e6331271a734ad3831edadd5c59efad": {
      "model_module": "bqplot",
      "model_module_version": "^0.3.0",
      "model_name": "FigureModel",
      "state": {
       "_dom_classes": [],
       "_model_module_version": "^0.3.0",
       "_view_module_version": "^0.3.0",
       "axes": [
        "IPY_MODEL_ce3fef64c326403ba2d46dcc2ddb9c18",
        "IPY_MODEL_04d900c35c79407e8f9f57c71a3ad338"
       ],
       "layout": "IPY_MODEL_55514efc97d54c44974e0013a5f5cbc9",
       "marks": [
        "IPY_MODEL_f5ab5459a15d45debea50eb61d0687b8"
       ],
       "max_aspect_ratio": 6,
       "scale_x": "IPY_MODEL_e0aaf68043b742aa9f59eda5706cd6f7",
       "scale_y": "IPY_MODEL_b97d52c4b7f6463f8b4fbea61904a477"
      }
     },
     "51ee8a765fa4490693392782a05aeb28": {
      "model_module": "bqplot",
      "model_module_version": "^0.3.0",
      "model_name": "LinearScaleModel",
      "state": {
       "_model_module_version": "^0.3.0",
       "_view_module_version": "^0.3.0",
       "max": 2,
       "min": -0.5,
       "stabilized": false
      }
     },
     "55514efc97d54c44974e0013a5f5cbc9": {
      "model_module": "@jupyter-widgets/base",
      "model_module_version": "1.0.0",
      "model_name": "LayoutModel",
      "state": {
       "min_width": "125px"
      }
     },
     "5bdf5d8c9b0341c381f23de4283276fe": {
      "model_module": "bqplot",
      "model_module_version": "^0.3.0",
      "model_name": "FigureModel",
      "state": {
       "_dom_classes": [],
       "_model_module_version": "^0.3.0",
       "_view_module_version": "^0.3.0",
       "animation_duration": 1000,
       "axes": [
        "IPY_MODEL_d39498cdd2aa4cbb92d755f4d328d391",
        "IPY_MODEL_ca5e304f502441c6b80a3b3d05015a34"
       ],
       "layout": "IPY_MODEL_0d3e5819043a4b378d3af13648d5b3b4",
       "marks": [
        "IPY_MODEL_c8a4845b09b64b2482ef1f9f80ad1124",
        "IPY_MODEL_bb2c845b016f458ca3e6d2ce4edcc5ea"
       ],
       "max_aspect_ratio": 6,
       "padding_y": 0,
       "scale_x": "IPY_MODEL_e70a421702444d01ae2ae96b593d6872",
       "scale_y": "IPY_MODEL_f73f97656cff4b29a3ce2b0e1bad1dd8"
      }
     },
     "755fcbec00654317aa22d6da462e0c38": {
      "model_module": "bqplot",
      "model_module_version": "^0.3.0",
      "model_name": "FigureModel",
      "state": {
       "_dom_classes": [],
       "_model_module_version": "^0.3.0",
       "_view_module_version": "^0.3.0",
       "layout": "IPY_MODEL_3375f88558044daba7af8850d3f7d76e",
       "marks": [
        "IPY_MODEL_aaf364707416448aa4d8006ec663eeea"
       ],
       "max_aspect_ratio": 6,
       "padding_y": 0,
       "scale_x": "IPY_MODEL_e15f595de79249869d36f9da368d6166",
       "scale_y": "IPY_MODEL_1ec882db9cb841fb87f907d09cad0480",
       "title": "Trees"
      }
     },
     "75c841d62d024c6399b50950e30ccd55": {
      "model_module": "bqplot",
      "model_module_version": "^0.3.0",
      "model_name": "LinearScaleModel",
      "state": {
       "_model_module_version": "^0.3.0",
       "_view_module_version": "^0.3.0",
       "stabilized": false
      }
     },
     "80b4dfd4d32e46058d615a19c8ba4226": {
      "model_module": "bqplot",
      "model_module_version": "^0.3.0",
      "model_name": "LinearScaleModel",
      "state": {
       "_model_module_version": "^0.3.0",
       "_view_module_version": "^0.3.0",
       "stabilized": false
      }
     },
     "929323256cec4ef0abe15110e9cb76fa": {
      "model_module": "bqplot",
      "model_module_version": "^0.3.0",
      "model_name": "LinearScaleModel",
      "state": {
       "_model_module_version": "^0.3.0",
       "_view_module_version": "^0.3.0",
       "stabilized": false
      }
     },
     "aaf364707416448aa4d8006ec663eeea": {
      "model_module": "bqplot",
      "model_module_version": "^0.3.0",
      "model_name": "ImageModel",
      "state": {
       "_model_module_version": "^0.3.0",
       "_view_module_version": "^0.3.0",
       "display_legend": false,
       "image": "IPY_MODEL_bfe77423b216444e9ca904519b4c3a9c",
       "scales": {
        "x": "IPY_MODEL_75c841d62d024c6399b50950e30ccd55",
        "y": "IPY_MODEL_929323256cec4ef0abe15110e9cb76fa"
       },
       "selected": [],
       "x": {
        "type": "float",
        "values": [
         0,
         1
        ]
       },
       "y": {
        "type": "float",
        "values": [
         0,
         1
        ]
       }
      }
     },
     "b2b338531df545928f6f8ce701fbf132": {
      "model_module": "@jupyter-widgets/base",
      "model_module_version": "1.0.0",
      "model_name": "LayoutModel",
      "state": {}
     },
     "b72fbd0d6a36449e8691540541a6d00b": {
      "model_module": "@jupyter-widgets/base",
      "model_module_version": "1.0.0",
      "model_name": "LayoutModel",
      "state": {}
     },
     "b97d52c4b7f6463f8b4fbea61904a477": {
      "model_module": "bqplot",
      "model_module_version": "^0.3.0",
      "model_name": "LinearScaleModel",
      "state": {
       "_model_module_version": "^0.3.0",
       "_view_module_version": "^0.3.0",
       "allow_padding": false,
       "max": 1,
       "min": 0,
       "stabilized": false
      }
     },
     "bb2c845b016f458ca3e6d2ce4edcc5ea": {
      "model_module": "bqplot",
      "model_module_version": "^0.3.0",
      "model_name": "LinesModel",
      "state": {
       "_model_module_version": "^0.3.0",
       "_view_module_version": "^0.3.0",
       "color": {
        "type": null,
        "values": null
       },
       "colors": [
        "red"
       ],
       "display_legend": false,
       "fill_colors": [],
       "labels": [
        "C1"
       ],
       "scales": {
        "x": "IPY_MODEL_456831a0b1e84a8a8165dba766473edf",
        "y": "IPY_MODEL_51ee8a765fa4490693392782a05aeb28"
       },
       "selected": [],
       "x": {
        "type": "float",
        "values": [
         0,
         1,
         1,
         0,
         0
        ]
       },
       "y": {
        "type": "float",
        "values": [
         0,
         0,
         1,
         1,
         0
        ]
       }
      }
     },
     "bfe77423b216444e9ca904519b4c3a9c": {
      "model_module": "@jupyter-widgets/controls",
      "model_module_version": "1.0.0",
      "model_name": "ImageModel",
      "state": {
       "format": "jpg",
       "layout": "IPY_MODEL_b2b338531df545928f6f8ce701fbf132",
       "value": {}
      }
     },
     "c8a4845b09b64b2482ef1f9f80ad1124": {
      "model_module": "bqplot",
      "model_module_version": "^0.3.0",
      "model_name": "ImageModel",
      "state": {
       "_model_module_version": "^0.3.0",
       "_view_module_version": "^0.3.0",
       "display_legend": false,
       "image": "IPY_MODEL_bfe77423b216444e9ca904519b4c3a9c",
       "scales": {
        "x": "IPY_MODEL_456831a0b1e84a8a8165dba766473edf",
        "y": "IPY_MODEL_51ee8a765fa4490693392782a05aeb28"
       },
       "selected": [],
       "x": {
        "type": "float",
        "values": [
         -1,
         2
        ]
       },
       "y": {
        "type": "float",
        "values": [
         -0.5,
         2
        ]
       }
      }
     },
     "ca5e304f502441c6b80a3b3d05015a34": {
      "model_module": "bqplot",
      "model_module_version": "^0.3.0",
      "model_name": "AxisModel",
      "state": {
       "_model_module_version": "^0.3.0",
       "_view_module_version": "^0.3.0",
       "orientation": "vertical",
       "scale": "IPY_MODEL_51ee8a765fa4490693392782a05aeb28",
       "side": "left",
       "tick_values": {
        "type": null,
        "values": null
       }
      }
     },
     "ce3fef64c326403ba2d46dcc2ddb9c18": {
      "model_module": "bqplot",
      "model_module_version": "^0.3.0",
      "model_name": "AxisModel",
      "state": {
       "_model_module_version": "^0.3.0",
       "_view_module_version": "^0.3.0",
       "orientation": "vertical",
       "scale": "IPY_MODEL_4db5e4b8cb6445dbb21323e987bd724d",
       "side": "left",
       "tick_values": {
        "type": null,
        "values": null
       }
      }
     },
     "d39498cdd2aa4cbb92d755f4d328d391": {
      "model_module": "bqplot",
      "model_module_version": "^0.3.0",
      "model_name": "AxisModel",
      "state": {
       "_model_module_version": "^0.3.0",
       "_view_module_version": "^0.3.0",
       "scale": "IPY_MODEL_456831a0b1e84a8a8165dba766473edf",
       "side": "bottom",
       "tick_values": {
        "type": null,
        "values": null
       }
      }
     },
     "e0aaf68043b742aa9f59eda5706cd6f7": {
      "model_module": "bqplot",
      "model_module_version": "^0.3.0",
      "model_name": "LinearScaleModel",
      "state": {
       "_model_module_version": "^0.3.0",
       "_view_module_version": "^0.3.0",
       "allow_padding": false,
       "max": 1,
       "min": 0,
       "stabilized": false
      }
     },
     "e15f595de79249869d36f9da368d6166": {
      "model_module": "bqplot",
      "model_module_version": "^0.3.0",
      "model_name": "LinearScaleModel",
      "state": {
       "_model_module_version": "^0.3.0",
       "_view_module_version": "^0.3.0",
       "allow_padding": false,
       "max": 1,
       "min": 0,
       "stabilized": false
      }
     },
     "e70a421702444d01ae2ae96b593d6872": {
      "model_module": "bqplot",
      "model_module_version": "^0.3.0",
      "model_name": "LinearScaleModel",
      "state": {
       "_model_module_version": "^0.3.0",
       "_view_module_version": "^0.3.0",
       "allow_padding": false,
       "max": 1,
       "min": 0,
       "stabilized": false
      }
     },
     "f5ab5459a15d45debea50eb61d0687b8": {
      "model_module": "bqplot",
      "model_module_version": "^0.3.0",
      "model_name": "ImageModel",
      "state": {
       "_model_module_version": "^0.3.0",
       "_view_module_version": "^0.3.0",
       "display_legend": false,
       "image": "IPY_MODEL_32d48656fa234d86a504e3c01daa2a5c",
       "scales": {
        "x": "IPY_MODEL_80b4dfd4d32e46058d615a19c8ba4226",
        "y": "IPY_MODEL_4db5e4b8cb6445dbb21323e987bd724d"
       },
       "selected": [],
       "x": {
        "type": "float",
        "values": [
         0,
         1
        ]
       },
       "y": {
        "type": "float",
        "values": [
         0,
         1
        ]
       }
      }
     },
     "f73f97656cff4b29a3ce2b0e1bad1dd8": {
      "model_module": "bqplot",
      "model_module_version": "^0.3.0",
      "model_name": "LinearScaleModel",
      "state": {
       "_model_module_version": "^0.3.0",
       "_view_module_version": "^0.3.0",
       "allow_padding": false,
       "max": 1,
       "min": 0,
       "stabilized": false
      }
     },
     "f920e644b9f44e64b7c6e9f9d0509dca": {
      "model_module": "@jupyter-widgets/controls",
      "model_module_version": "1.0.0",
      "model_name": "VBoxModel",
      "state": {
       "children": [
        "IPY_MODEL_4e6331271a734ad3831edadd5c59efad",
        "IPY_MODEL_3dbaf85a158048bb8afab96efcd647dd"
       ],
       "layout": "IPY_MODEL_0622ba0d24e94ed4ba3aaab8df39c611"
      }
     }
    },
    "version_major": 2,
    "version_minor": 0
   }
  }
 },
 "nbformat": 4,
 "nbformat_minor": 2
}
